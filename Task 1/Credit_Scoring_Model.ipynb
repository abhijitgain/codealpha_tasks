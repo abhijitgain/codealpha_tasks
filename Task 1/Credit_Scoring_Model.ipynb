{
 "cells": [
  {
   "cell_type": "markdown",
   "id": "57d4562f-4f90-4a6d-b6a2-e305c98a874a",
   "metadata": {},
   "source": [
    "# Task 1: Credit Scoring Model\n",
    " ## Intern: Abhijit Gain"
   ]
  },
  {
   "cell_type": "markdown",
   "id": "9ece5e9e-0111-4015-b50f-156ba3a9d757",
   "metadata": {},
   "source": [
    "## Import necessary Libraries"
   ]
  },
  {
   "cell_type": "code",
   "execution_count": null,
   "id": "932ce8e2-e257-45e1-9810-d2dec498b0af",
   "metadata": {},
   "outputs": [],
   "source": [
    "import pandas as pd\n",
    "import numpy as np\n",
    "from sklearn.model_selection import train_test_split, GridSearchCV, cross_val_score\n",
    "from sklearn.preprocessing import StandardScaler\n",
    "from sklearn.linear_model import LogisticRegression\n",
    "from sklearn.tree import DecisionTreeClassifier\n",
    "from sklearn.ensemble import RandomForestClassifier\n",
    "from sklearn.metrics import classification_report, roc_auc_score, confusion_matrix\n",
    "from imblearn.over_sampling import SMOTE\n",
    "import matplotlib.pyplot as plt\n",
    "import seaborn as sns\n"
   ]
  },
  {
   "cell_type": "markdown",
   "id": "1c3c09c0-f4ca-41c0-b9df-9b15d11342e8",
   "metadata": {},
   "source": [
    "##  Dataset for Task 1"
   ]
  },
  {
   "cell_type": "code",
   "execution_count": 2,
   "id": "c5e431da-2fc4-4cd5-bb89-6460bf953276",
   "metadata": {},
   "outputs": [],
   "source": [
    "data = pd.read_csv('Credit_Card.csv')"
   ]
  },
  {
   "cell_type": "markdown",
   "id": "d3b5add2-de32-4a5e-94c2-3c01ec79974d",
   "metadata": {},
   "source": [
    "## Process Target and Features "
   ]
  },
  {
   "cell_type": "code",
   "execution_count": 3,
   "id": "82592101-22c4-41b9-a6a3-f554d55a8010",
   "metadata": {},
   "outputs": [],
   "source": [
    "target_col = 'default.payment.next.month'\n",
    "X = data.drop(columns=[target_col])\n",
    "y = data[target_col]"
   ]
  },
  {
   "cell_type": "markdown",
   "id": "43cfaefc-8385-4136-a0c8-458f2a695d40",
   "metadata": {},
   "source": [
    "##  Train-Test Split"
   ]
  },
  {
   "cell_type": "code",
   "execution_count": null,
   "id": "3f270fe2-9066-4997-9c25-91b812b7c5ff",
   "metadata": {},
   "outputs": [],
   "source": [
    "X_train, X_test, y_train, y_test = train_test_split(X, y, test_size=0.2, random_state=42, stratify=y)"
   ]
  },
  {
   "cell_type": "markdown",
   "id": "643ce8be-c0d6-49b2-b6ad-60d47f73dc35",
   "metadata": {},
   "source": [
    "## Scaling Feature"
   ]
  },
  {
   "cell_type": "code",
   "execution_count": 5,
   "id": "19d58fb8-0489-4e73-9271-d84a414b40df",
   "metadata": {},
   "outputs": [],
   "source": [
    "scaler = StandardScaler()\n",
    "X_train_scaled = scaler.fit_transform(X_train)\n",
    "X_test_scaled = scaler.transform(X_test)"
   ]
  },
  {
   "cell_type": "markdown",
   "id": "c2213f78-23d2-485b-bafc-02fda7dfaa5a",
   "metadata": {},
   "source": [
    "##  SMOTE with Imbalanced Data"
   ]
  },
  {
   "cell_type": "code",
   "execution_count": 6,
   "id": "2e87e5bb-748c-4606-bfea-402b176b2841",
   "metadata": {},
   "outputs": [],
   "source": [
    "sm = SMOTE(random_state=42)\n",
    "X_train_res, y_train_res = sm.fit_resample(X_train_scaled, y_train)"
   ]
  },
  {
   "cell_type": "markdown",
   "id": "afbebffa-d323-40f8-907d-02d292d6fc9e",
   "metadata": {},
   "source": [
    "## Hyperparameter Tuning for GridSearchCV  setup"
   ]
  },
  {
   "cell_type": "code",
   "execution_count": 7,
   "id": "c1512b44-1459-402f-bfe7-a0d2288cf115",
   "metadata": {},
   "outputs": [
    {
     "name": "stdout",
     "output_type": "stream",
     "text": [
      "--- Hyperparameter tuning for Logistic Regression ---\n",
      "Best params for Logistic Regression: {'C': 1, 'max_iter': 500, 'solver': 'lbfgs'}\n",
      "--- Hyperparameter tuning for Decision Tree ---\n",
      "Best params for Decision Tree: {'max_depth': 10, 'min_samples_split': 10}\n",
      "--- Hyperparameter tuning for Random Forest ---\n",
      "Best params for Random Forest: {'max_depth': None, 'min_samples_split': 2, 'n_estimators': 200}\n",
      "\n",
      "\n",
      "--- Model Evaluation on Test Set ---\n"
     ]
    }
   ],
   "source": [
    "param_grids = {\n",
    "    'Logistic Regression': {\n",
    "        'C': [0.01, 0.1, 1, 10],\n",
    "        'solver': ['lbfgs'],\n",
    "        'max_iter': [500]\n",
    "    },\n",
    "    'Decision Tree': {\n",
    "        'max_depth': [3, 5, 10, 20, None],\n",
    "        'min_samples_split': [2, 5, 10]\n",
    "    },\n",
    "    'Random Forest': {\n",
    "        'n_estimators': [50, 100, 200],\n",
    "        'max_depth': [5, 10, 20, None],\n",
    "        'min_samples_split': [2, 5, 10]\n",
    "    }\n",
    "}\n",
    "\n",
    "models = {\n",
    "    'Logistic Regression': LogisticRegression(random_state=42),\n",
    "    'Decision Tree': DecisionTreeClassifier(random_state=42),\n",
    "    'Random Forest': RandomForestClassifier(random_state=42)\n",
    "}\n",
    "\n",
    "best_models = {}\n",
    "\n",
    "for name, model in models.items():\n",
    "    print(f\"--- Hyperparameter tuning for {name} ---\")\n",
    "    grid = GridSearchCV(model, param_grids[name], cv=5, scoring='roc_auc', n_jobs=-1)\n",
    "    grid.fit(X_train_res, y_train_res)\n",
    "    print(f\"Best params for {name}: {grid.best_params_}\")\n",
    "    best_models[name] = grid.best_estimator_\n",
    "\n",
    "print(\"\\n\\n--- Model Evaluation on Test Set ---\")\n",
    "\n",
    "def evaluate_model(model, X_test, y_test):\n",
    "    y_pred = model.predict(X_test)\n",
    "    if hasattr(model, \"predict_proba\"):\n",
    "        y_proba = model.predict_proba(X_test)[:, 1]\n",
    "    elif hasattr(model, \"decision_function\"):\n",
    "        y_proba = model.decision_function(X_test)\n",
    "    else:\n",
    "        y_proba = None\n",
    "\n",
    "    print(classification_report(y_test, y_pred, digits=4))\n",
    "    print(\"Confusion Matrix:\\n\", confusion_matrix(y_test, y_pred))\n",
    "    if y_proba is not None:\n",
    "        print(\"ROC-AUC Score:\", roc_auc_score(y_test, y_proba))\n",
    "    print('-' * 50)"
   ]
  },
  {
   "cell_type": "markdown",
   "id": "dac20171-bdf5-449f-ba0e-580d06bfc6a5",
   "metadata": {},
   "source": [
    "## Test set"
   ]
  },
  {
   "cell_type": "code",
   "execution_count": 8,
   "id": "dd614d8e-ec30-4acc-a2f1-28b1dbe5185f",
   "metadata": {},
   "outputs": [
    {
     "name": "stdout",
     "output_type": "stream",
     "text": [
      "Evaluating Logistic Regression...\n",
      "              precision    recall  f1-score   support\n",
      "\n",
      "           0     0.8667    0.6831    0.7640      4673\n",
      "           1     0.3608    0.6300    0.4588      1327\n",
      "\n",
      "    accuracy                         0.6713      6000\n",
      "   macro avg     0.6137    0.6565    0.6114      6000\n",
      "weighted avg     0.7548    0.6713    0.6965      6000\n",
      "\n",
      "Confusion Matrix:\n",
      " [[3192 1481]\n",
      " [ 491  836]]\n",
      "ROC-AUC Score: 0.7103753529027486\n",
      "--------------------------------------------------\n",
      "Evaluating Decision Tree...\n",
      "              precision    recall  f1-score   support\n",
      "\n",
      "           0     0.8601    0.8115    0.8351      4673\n",
      "           1     0.4463    0.5350    0.4866      1327\n",
      "\n",
      "    accuracy                         0.7503      6000\n",
      "   macro avg     0.6532    0.6733    0.6608      6000\n",
      "weighted avg     0.7685    0.7503    0.7580      6000\n",
      "\n",
      "Confusion Matrix:\n",
      " [[3792  881]\n",
      " [ 617  710]]\n",
      "ROC-AUC Score: 0.7160758198059659\n",
      "--------------------------------------------------\n",
      "Evaluating Random Forest...\n",
      "              precision    recall  f1-score   support\n",
      "\n",
      "           0     0.8527    0.8941    0.8729      4673\n",
      "           1     0.5500    0.4559    0.4986      1327\n",
      "\n",
      "    accuracy                         0.7972      6000\n",
      "   macro avg     0.7013    0.6750    0.6857      6000\n",
      "weighted avg     0.7857    0.7972    0.7901      6000\n",
      "\n",
      "Confusion Matrix:\n",
      " [[4178  495]\n",
      " [ 722  605]]\n",
      "ROC-AUC Score: 0.7535087084150465\n",
      "--------------------------------------------------\n"
     ]
    }
   ],
   "source": [
    "for name, model in best_models.items():\n",
    "    print(f\"Evaluating {name}...\")\n",
    "    evaluate_model(model, X_test_scaled, y_test)\n"
   ]
  },
  {
   "cell_type": "markdown",
   "id": "b5278826-c6fb-4864-a9a6-341a94ad9360",
   "metadata": {},
   "source": [
    "## Feature Importance (Random Forest )"
   ]
  },
  {
   "cell_type": "code",
   "execution_count": 9,
   "id": "473e1f81-2b59-4ad4-be02-b5e734396b8b",
   "metadata": {},
   "outputs": [
    {
     "name": "stdout",
     "output_type": "stream",
     "text": [
      "\n",
      "--- Top 10 Important Features ---\n",
      "PAY_0        0.101462\n",
      "LIMIT_BAL    0.072505\n",
      "ID           0.056576\n",
      "AGE          0.053606\n",
      "PAY_2        0.051869\n",
      "PAY_AMT1     0.047452\n",
      "BILL_AMT1    0.046708\n",
      "PAY_AMT2     0.045955\n",
      "PAY_AMT6     0.045642\n",
      "PAY_AMT3     0.042669\n",
      "dtype: float64\n"
     ]
    },
    {
     "data": {
      "image/png": "[encoded data removed]",
      "text/plain": [
       "<Figure size 1000x600 with 1 Axes>"
      ]
     },
     "metadata": {},
     "output_type": "display_data"
    }
   ],
   "source": [
    "rf_model = best_models['Random Forest']\n",
    "feature_importances = pd.Series(rf_model.feature_importances_, index=X.columns).sort_values(ascending=False)\n",
    "\n",
    "print(\"\\n--- Top 10 Important Features ---\")\n",
    "print(feature_importances.head(10))\n",
    "\n",
    "# Feature importance visualization\n",
    "plt.figure(figsize=(10,6))\n",
    "sns.barplot(x=feature_importances.head(10), y=feature_importances.head(10).index)\n",
    "plt.title('Top 10 Feature Importances from Random Forest')\n",
    "plt.show()"
   ]
  },
  {
   "cell_type": "markdown",
   "id": "bf7fc6e2-a5cf-4a83-a559-648d9cc96551",
   "metadata": {},
   "source": [
    "##  Cross-validation (ROC-AUC )"
   ]
  },
  {
   "cell_type": "code",
   "execution_count": 10,
   "id": "a3e4e548-1b64-4382-aa79-c5e4fe540b49",
   "metadata": {},
   "outputs": [
    {
     "name": "stdout",
     "output_type": "stream",
     "text": [
      "\n",
      "--- Cross-validation Scores (ROC-AUC) ---\n",
      "Logistic Regression: Mean ROC-AUC = 0.7356, Std = 0.0042\n",
      "Decision Tree: Mean ROC-AUC = 0.8226, Std = 0.0536\n",
      "Random Forest: Mean ROC-AUC = 0.9371, Std = 0.0350\n"
     ]
    }
   ],
   "source": [
    "print(\"\\n--- Cross-validation Scores (ROC-AUC) ---\")\n",
    "for name, model in best_models.items():\n",
    "    scores = cross_val_score(model, X_train_res, y_train_res, cv=5, scoring='roc_auc', n_jobs=-1)\n",
    "    print(f\"{name}: Mean ROC-AUC = {scores.mean():.4f}, Std = {scores.std():.4f}\")"
   ]
  }
 ],
 "metadata": {
  "kernelspec": {
   "display_name": "Python 3 (ipykernel)",
   "language": "python",
   "name": "python3"
  },
  "language_info": {
   "codemirror_mode": {
    "name": "ipython",
    "version": 3
   },
   "file_extension": ".py",
   "mimetype": "text/x-python",
   "name": "python",
   "nbconvert_exporter": "python",
   "pygments_lexer": "ipython3",
   "version": "3.12.3"
  }
 },
 "nbformat": 4,
 "nbformat_minor": 5
}
